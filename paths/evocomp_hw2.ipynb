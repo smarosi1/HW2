{
  "nbformat": 4,
  "nbformat_minor": 0,
  "metadata": {
    "colab": {
      "provenance": []
    },
    "kernelspec": {
      "name": "python3",
      "display_name": "Python 3"
    },
    "language_info": {
      "name": "python"
    }
  },
  "cells": [
    {
      "cell_type": "code",
      "execution_count": 38,
      "metadata": {
        "id": "Mk8vDws8HG6x"
      },
      "outputs": [],
      "source": [
        "import pandas as pd\n",
        "import os\n",
        "import re"
      ]
    },
    {
      "cell_type": "code",
      "source": [
        "folder_path = \"/content/drive/MyDrive/Assignment Files/Evocomp/HW2\"\n",
        "files = os.listdir(folder_path)\n",
        "files"
      ],
      "metadata": {
        "colab": {
          "base_uri": "https://localhost:8080/"
        },
        "id": "N8Gdvo2bHmcy",
        "outputId": "e3df2ddc-df4b-4f1f-e522-227d4c8f4acd"
      },
      "execution_count": 39,
      "outputs": [
        {
          "output_type": "execute_result",
          "data": {
            "text/plain": [
              "['best_inversion.txt',\n",
              " 'best_cycle.txt',\n",
              " 'best_pmx.txt',\n",
              " 'best_order.txt',\n",
              " 'best_swap.txt',\n",
              " 'best_scramble.txt']"
            ]
          },
          "metadata": {},
          "execution_count": 39
        }
      ]
    },
    {
      "cell_type": "code",
      "source": [
        "file_contents = []\n",
        "\n",
        "for file in files:\n",
        "  with open(os.path.join(folder_path, file)) as f:\n",
        "    file_contents.append(f.read())"
      ],
      "metadata": {
        "id": "xEPKzI47IWyU"
      },
      "execution_count": 40,
      "outputs": []
    },
    {
      "cell_type": "code",
      "source": [
        "best_paths = [re.findall(r'(-?\\d+\\.\\d+)\\s+(-?\\d+\\.\\d+)', file) for file in file_contents]"
      ],
      "metadata": {
        "id": "w4qBer7xIdJc"
      },
      "execution_count": 41,
      "outputs": []
    },
    {
      "cell_type": "code",
      "source": [
        "dfs = []\n",
        "    \n",
        "for path in best_paths:\n",
        "  df = pd.DataFrame(path, columns=['latitude', 'longitude'])\n",
        "  dfs.append(df)"
      ],
      "metadata": {
        "id": "ltKapyKjdRv-"
      },
      "execution_count": 42,
      "outputs": []
    },
    {
      "cell_type": "code",
      "source": [
        "for i in range(len(files)):\n",
        "  dfs[i].to_csv(f'{files[i][:-4]}.csv',index=False)"
      ],
      "metadata": {
        "id": "Zso9Q-9PmKXP"
      },
      "execution_count": 43,
      "outputs": []
    },
    {
      "cell_type": "code",
      "source": [],
      "metadata": {
        "id": "qBmzYEjCnSul"
      },
      "execution_count": null,
      "outputs": []
    }
  ]
}